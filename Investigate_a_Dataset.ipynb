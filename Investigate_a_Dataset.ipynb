{
 "cells": [
  {
   "cell_type": "markdown",
   "metadata": {},
   "source": [
    "\n",
    "# Project: Investigate the IMDB dataset\n",
    "\n",
    "## Table of Contents\n",
    "<ul>\n",
    "<li><a href=\"#intro\">Introduction</a></li>\n",
    "<li><a href=\"#wrangling\">Data Wrangling</a></li>\n",
    "<li><a href=\"#eda\">Exploratory Data Analysis</a></li>\n",
    "<li><a href=\"#conclusions\">Conclusions</a></li>\n",
    "</ul>"
   ]
  },
  {
   "cell_type": "markdown",
   "metadata": {},
   "source": [
    "<a id='intro'></a>\n",
    "## Introduction\n",
    "\n",
    "I have selected the IMDB dataset to review the impact that genres and cast members have on the profitability of a movie. "
   ]
  },
  {
   "cell_type": "code",
   "execution_count": null,
   "metadata": {},
   "outputs": [],
   "source": [
    "import pandas as pd\n",
    "import numpy as np\n",
    "% matplotlib inline\n",
    "import matplotlib.pyplot as plt\n",
    "import seaborn as sns"
   ]
  },
  {
   "cell_type": "markdown",
   "metadata": {},
   "source": [
    "<a id='wrangling'></a>\n",
    "## Data Wrangling\n",
    "\n",
    "### General Properties"
   ]
  },
  {
   "cell_type": "code",
   "execution_count": null,
   "metadata": {},
   "outputs": [],
   "source": [
    "df = pd.read_csv('tmdb-movies.csv')"
   ]
  },
  {
   "cell_type": "code",
   "execution_count": null,
   "metadata": {},
   "outputs": [],
   "source": [
    "df.head(1)"
   ]
  },
  {
   "cell_type": "code",
   "execution_count": null,
   "metadata": {},
   "outputs": [],
   "source": [
    "df.shape"
   ]
  },
  {
   "cell_type": "code",
   "execution_count": null,
   "metadata": {},
   "outputs": [],
   "source": [
    "df.info()"
   ]
  },
  {
   "cell_type": "code",
   "execution_count": null,
   "metadata": {},
   "outputs": [],
   "source": [
    "df.describe()"
   ]
  },
  {
   "cell_type": "markdown",
   "metadata": {},
   "source": [
    "### Data Cleaning of the genre and cast columns, as well as data type correction"
   ]
  },
  {
   "cell_type": "markdown",
   "metadata": {},
   "source": [
    "The main problems I have discovered with the data is that the genre and cast columns contain multiple entries per field. In addition, the budget column is an int while the budget_adj and revenue_adj columns are floats, therefore the data types will have to be made similar. "
   ]
  },
  {
   "cell_type": "code",
   "execution_count": null,
   "metadata": {},
   "outputs": [],
   "source": [
    "df['genres'].value_counts()"
   ]
  },
  {
   "cell_type": "markdown",
   "metadata": {},
   "source": [
    "Below we are splitting the genre column into multiple rows, so that we are better able to analyze budget and revenue across genres."
   ]
  },
  {
   "cell_type": "code",
   "execution_count": null,
   "metadata": {},
   "outputs": [],
   "source": [
    "genre_df = df['genres'].str.split('|').apply(pd.Series, 1).stack()\n",
    "genre_df.index = genre_df.index.droplevel(-1)\n",
    "genre_df.name = 'genres'\n",
    "del df['genres']\n",
    "df = df.join(genre_df)"
   ]
  },
  {
   "cell_type": "markdown",
   "metadata": {},
   "source": [
    "Below we are changing the budget and revenue columns into int columns"
   ]
  },
  {
   "cell_type": "code",
   "execution_count": null,
   "metadata": {},
   "outputs": [],
   "source": [
    "df['budget_adj'] = df['budget_adj'].astype(int)"
   ]
  },
  {
   "cell_type": "code",
   "execution_count": null,
   "metadata": {},
   "outputs": [],
   "source": [
    "df['revenue_adj'] = df['revenue_adj'].astype(int)"
   ]
  },
  {
   "cell_type": "code",
   "execution_count": null,
   "metadata": {},
   "outputs": [],
   "source": [
    "df.info()"
   ]
  },
  {
   "cell_type": "code",
   "execution_count": null,
   "metadata": {},
   "outputs": [],
   "source": [
    "df['genres'].value_counts()"
   ]
  },
  {
   "cell_type": "markdown",
   "metadata": {},
   "source": [
    "We will now be correcting the cast column so that it contains one actor per row, instead of multiple actors in each row. "
   ]
  },
  {
   "cell_type": "code",
   "execution_count": null,
   "metadata": {},
   "outputs": [],
   "source": [
    "df['cast'].value_counts()"
   ]
  },
  {
   "cell_type": "code",
   "execution_count": null,
   "metadata": {},
   "outputs": [],
   "source": [
    "cast_df = df['cast'].str.split('|').apply(pd.Series, 1).stack()\n",
    "cast_df.index = cast_df.index.droplevel(-1)\n",
    "cast_df.name = 'cast'\n",
    "del df['cast']\n",
    "df = df.join(cast_df)"
   ]
  },
  {
   "cell_type": "code",
   "execution_count": null,
   "metadata": {},
   "outputs": [],
   "source": [
    "df.head(2)"
   ]
  },
  {
   "cell_type": "markdown",
   "metadata": {},
   "source": [
    "We will now also be looking at the '0' values in revenue and budget, as these influence our profit column and therefore our analysis."
   ]
  },
  {
   "cell_type": "code",
   "execution_count": null,
   "metadata": {},
   "outputs": [],
   "source": [
    "df.info()"
   ]
  },
  {
   "cell_type": "code",
   "execution_count": null,
   "metadata": {},
   "outputs": [],
   "source": [
    "#replace 0 values in budget with mean for budget (calculated by df.describe())\n",
    "df['budget'] = df['budget'].replace(to_replace=0, value=1.462570e+07)"
   ]
  },
  {
   "cell_type": "code",
   "execution_count": null,
   "metadata": {},
   "outputs": [],
   "source": [
    "#replace 0 values in revenue with mean for revenue (calculated by df.describe())\n",
    "df['revenue'] = df['revenue'].replace(to_replace=0, value=3.982332e+07)"
   ]
  },
  {
   "cell_type": "code",
   "execution_count": null,
   "metadata": {},
   "outputs": [],
   "source": [
    "df.head()"
   ]
  },
  {
   "cell_type": "markdown",
   "metadata": {},
   "source": [
    "<a id='eda'></a>\n",
    "## Exploratory Data Analysis\n",
    "\n",
    "### Research Question 1: How does genre influence the gross revenue for a film?"
   ]
  },
  {
   "cell_type": "code",
   "execution_count": null,
   "metadata": {},
   "outputs": [],
   "source": [
    "df['profit'] = df['revenue'] - df['budget']"
   ]
  },
  {
   "cell_type": "code",
   "execution_count": null,
   "metadata": {},
   "outputs": [],
   "source": [
    "genre_rev = df.groupby('genres').mean()\n",
    "genre_rev"
   ]
  },
  {
   "cell_type": "code",
   "execution_count": null,
   "metadata": {},
   "outputs": [],
   "source": [
    "# What is the maximum and minimum profit for each genre?\n",
    "max_profit = genre_rev['profit'].max()\n",
    "min_profit = genre_rev['profit'].min()\n",
    "print(max_profit, min_profit)"
   ]
  },
  {
   "cell_type": "code",
   "execution_count": null,
   "metadata": {},
   "outputs": [],
   "source": [
    "#The range for movie profits\n",
    "range_profit = max_profit - min_profit\n",
    "range_profit"
   ]
  },
  {
   "cell_type": "code",
   "execution_count": null,
   "metadata": {},
   "outputs": [],
   "source": [
    "plt.bar([\"Maximum profit\", \"Minimum profit\"],[max_profit, min_profit])\n",
    "plt.title(\"Variations of profit achievable in the IMDB dataset\")\n",
    "plt.xlabel(\"Range\")\n",
    "plt.ylabel(\"Profit in US dollars\");"
   ]
  },
  {
   "cell_type": "code",
   "execution_count": null,
   "metadata": {},
   "outputs": [],
   "source": [
    "df['profit'].hist()\n",
    "plt.title('Profitability of films histogram')\n",
    "plt.xlabel('Classes of profit')\n",
    "plt.ylabel('Profit');"
   ]
  },
  {
   "cell_type": "code",
   "execution_count": null,
   "metadata": {},
   "outputs": [],
   "source": [
    "genre_rev.dropna(inplace=True)\n",
    "plt.subplots(figsize=(12, 5))\n",
    "plt.bar(genre_rev.index, genre_rev.profit)\n",
    "plt.xticks(rotation=90)\n",
    "plt.xlabel('Genre')\n",
    "plt.ylabel('Profit')\n",
    "plt.title('An illustration of how profitable various genres in the movie industry are');"
   ]
  },
  {
   "cell_type": "markdown",
   "metadata": {},
   "source": [
    "The genres that generate the highest amount of profit are adventure, animation and fantasy. The genres that seem to have the lowest profits are documentaries, foreign films, TV movies and Western movies. This is not exactly surprising as adventure films like the Marvel franchise and Jurassic Park are enormous blockbusters that shaped culture. However, documentaries and foreign films are more niche films that appeal to specific target audiences and do not always have mass market appeal."
   ]
  },
  {
   "cell_type": "markdown",
   "metadata": {},
   "source": [
    "### Are certain cast members assosciated with higher profits?"
   ]
  },
  {
   "cell_type": "markdown",
   "metadata": {},
   "source": [
    "Below is a list of cast members and the number of times they show up in the IMDB movie dataset."
   ]
  },
  {
   "cell_type": "code",
   "execution_count": null,
   "metadata": {},
   "outputs": [],
   "source": [
    "df['cast'].value_counts()"
   ]
  },
  {
   "cell_type": "code",
   "execution_count": null,
   "metadata": {},
   "outputs": [],
   "source": [
    "cast_rev = df.groupby('cast').mean()\n",
    "cast_rev"
   ]
  },
  {
   "cell_type": "code",
   "execution_count": null,
   "metadata": {},
   "outputs": [],
   "source": [
    "cast_and_profit = df[['cast', 'profit']]\n",
    "cast_and_profit.head()"
   ]
  },
  {
   "cell_type": "markdown",
   "metadata": {},
   "source": [
    "By highest earning actor I am reviewing how much the actor is earning for the production house and not for themselves, which is why I am looking at profit, rather than what they personally received."
   ]
  },
  {
   "cell_type": "code",
   "execution_count": null,
   "metadata": {},
   "outputs": [],
   "source": [
    "highest_earning_actor = cast_and_profit['profit'].max()\n",
    "lowest_earning_actor = cast_and_profit['profit'].min()\n",
    "highest_earning_actor, lowest_earning_actor"
   ]
  },
  {
   "cell_type": "code",
   "execution_count": null,
   "metadata": {},
   "outputs": [],
   "source": [
    "max_profit_by_actor = df.groupby('cast').max()"
   ]
  },
  {
   "cell_type": "markdown",
   "metadata": {},
   "source": [
    "The actors selected below are the ten actors who occur the most times in the cast.value_counts query."
   ]
  },
  {
   "cell_type": "code",
   "execution_count": null,
   "metadata": {},
   "outputs": [],
   "source": [
    "topten_actors = max_profit_by_actor.query('cast in [\"Samuel L. Jackson\", \"Bruce Willis\", \"Nicolas Cage\", \"Eddie Murphy\", \"Robert De Niro\", \"Clint Eastwood\", \"Mel Gibson\", \"Antonio Banderas\", \"Michael Caine\", \"Donald Sutherland\"]')"
   ]
  },
  {
   "cell_type": "code",
   "execution_count": null,
   "metadata": {},
   "outputs": [],
   "source": [
    "topten_actors"
   ]
  },
  {
   "cell_type": "code",
   "execution_count": null,
   "metadata": {},
   "outputs": [],
   "source": [
    "plt.bar(topten_actors.index, topten_actors.profit)\n",
    "plt.xlabel('Actor')\n",
    "plt.ylabel('Profit')\n",
    "plt.title('The ten actors who occurred in the most movies profit compared')\n",
    "plt.xticks(rotation=90);"
   ]
  },
  {
   "cell_type": "markdown",
   "metadata": {},
   "source": [
    "Michael Caine seems to have brought in the highest revenue for all of the actors, therefore, let's print out a list of movies he has been in"
   ]
  },
  {
   "cell_type": "code",
   "execution_count": null,
   "metadata": {},
   "outputs": [],
   "source": [
    "michael_c = df.query('cast == \"Michael Caine\"')\n",
    "michael_c_updated = michael_c[['original_title', 'profit']]"
   ]
  },
  {
   "cell_type": "code",
   "execution_count": null,
   "metadata": {},
   "outputs": [],
   "source": [
    "michael_c_updated.original_title.nunique()"
   ]
  },
  {
   "cell_type": "code",
   "execution_count": null,
   "metadata": {},
   "outputs": [],
   "source": [
    "michael_films = michael_c_updated.groupby('original_title').mean()"
   ]
  },
  {
   "cell_type": "markdown",
   "metadata": {},
   "source": [
    "The films Michael Caine has starred in as well as the profit earned on each film."
   ]
  },
  {
   "cell_type": "code",
   "execution_count": null,
   "metadata": {},
   "outputs": [],
   "source": [
    "michael_films = michael_films.loc[(michael_films!=0).any(axis=1)]\n",
    "michael_films"
   ]
  },
  {
   "cell_type": "code",
   "execution_count": null,
   "metadata": {},
   "outputs": [],
   "source": [
    "plt.bar(michael_films.index, michael_films.profit)\n",
    "plt.xlabel('Films')\n",
    "plt.ylabel('Profit')\n",
    "plt.title('How much profit Michael Caines films have returned')\n",
    "plt.xticks(rotation=90);"
   ]
  },
  {
   "cell_type": "code",
   "execution_count": null,
   "metadata": {},
   "outputs": [],
   "source": [
    "michael_genre = michael_c.groupby('genres').mean()\n",
    "michael_genre"
   ]
  },
  {
   "cell_type": "code",
   "execution_count": null,
   "metadata": {},
   "outputs": [],
   "source": [
    "min_profit = michael_genre['profit'].idxmin(axis=1)\n",
    "print('Michaels least profitable genre is', min_profit)"
   ]
  },
  {
   "cell_type": "code",
   "execution_count": null,
   "metadata": {},
   "outputs": [],
   "source": [
    "max_profit = michael_genre['profit'].idxmax(axis=1)\n",
    "print('Michaels most profitable genre is', max_profit)"
   ]
  },
  {
   "cell_type": "code",
   "execution_count": null,
   "metadata": {},
   "outputs": [],
   "source": [
    "ave_profit = michael_genre['profit'].mean()\n",
    "print('The average profit obtained by Michael Caines films across genres is US$', ave_profit)"
   ]
  },
  {
   "cell_type": "markdown",
   "metadata": {},
   "source": [
    "<h2>Research question 3: Does profitability correlate with popularity?</h2>"
   ]
  },
  {
   "cell_type": "code",
   "execution_count": null,
   "metadata": {},
   "outputs": [],
   "source": [
    "pop_genre = df.groupby('genres').mean()\n",
    "pop_genre"
   ]
  },
  {
   "cell_type": "markdown",
   "metadata": {},
   "source": [
    "Let's discover what the distribution of popularity looks like. "
   ]
  },
  {
   "cell_type": "code",
   "execution_count": null,
   "metadata": {},
   "outputs": [],
   "source": [
    "pop_genre['popularity'].hist()\n",
    "plt.title('A histogram of popularity scores')\n",
    "plt.xlabel('Class bins')\n",
    "plt.ylabel('Popularity score');"
   ]
  },
  {
   "cell_type": "markdown",
   "metadata": {},
   "source": [
    "It seems that the popularity distribution is leading more towards being skewed to the right, rather than being a perfect example of a normal distribution. "
   ]
  },
  {
   "cell_type": "code",
   "execution_count": null,
   "metadata": {},
   "outputs": [],
   "source": [
    "x_var = pop_genre['popularity']\n",
    "y_var = pop_genre['profit']\n",
    "\n",
    "plt.plot(x_var, y_var, 'o', color='red')\n",
    "plt.title('A comparison between popularity and profitability')\n",
    "plt.xlabel('Popularity score')\n",
    "plt.ylabel('Profit');"
   ]
  },
  {
   "cell_type": "markdown",
   "metadata": {},
   "source": [
    "There does seem to be a positive correlation, the greater the popularity score the higher the level of profitability a movie experienced. However, the points are not perfectly correlated, therefore further investigation and more information would need to be acquired in order to provide more meaningful insights."
   ]
  },
  {
   "cell_type": "markdown",
   "metadata": {},
   "source": [
    "<a id='conclusions'></a>\n",
    "## Conclusions\n",
    "\n",
    "The most profitable genres seem to be the adventure, animation and fantasy genres, while the least profitable genres are documentaries, foreign films and TV movies.\n",
    "\n",
    "The range in potential profit for a movie is enormous with the difference between the highest grossing and the lowest grossing movies being US$74 746 929. \n",
    "\n",
    "The difference between actors profits is even more substantial with some even bringing in negative earnings.\n",
    "\n",
    "Of the ten actors who occured the most, Michael Caine was the one who had the highest profit for his films, however this does not imply that he was solely responsible for those profits as there are multiple other factors that go into creating a succesful film. For example, the marketing of the film, the genre it is in, the director's decisions and the writing quality. \n",
    "\n",
    "Michael Caine's two most profitable films are The Dark Knight and The Dark Knight Rising, this isn't exactly surprising to me, as Batman is my favourite superhero of all time. \n",
    "\n",
    "Popularity does seem to have an influence on profitability, however there isn't enough information to provide definitive causation. \n",
    "\n",
    "The main limitations on the dataframe is not knowing how many people actually viewed the movie, how much individual actors earned for each movie and the awards the movie may have received.\n",
    "\n",
    "References:\n",
    "Chhibber, A., 2017. IMDB - Analysis by Genres. [online] Kaggle.com. Available at: <https://www.kaggle.com/abhishekchhibber/imdb-analysis-by-genres> [Accessed 22 February 2021].\n",
    "https://stackoverflow.com/questions/22649693/drop-rows-with-all-zeros-in-pandas-data-frame\n",
    "https://pandas.pydata.org/pandas-docs/version/0.25.2/reference/api/pandas.DataFrame.query.html\n",
    "https://thispointer.com/pandas-dataframe-get-minimum-values-in-rows-or-columns-their-index-position/\n",
    "https://jakevdp.github.io/PythonDataScienceHandbook/04.02-simple-scatter-plots.html\n",
    "Udacity notes"
   ]
  },
  {
   "cell_type": "code",
   "execution_count": null,
   "metadata": {},
   "outputs": [],
   "source": [
    "from subprocess import call\n",
    "call(['python', '-m', 'nbconvert', 'Investigate_a_Dataset.ipynb'])"
   ]
  },
  {
   "cell_type": "code",
   "execution_count": null,
   "metadata": {},
   "outputs": [],
   "source": []
  }
 ],
 "metadata": {
  "kernelspec": {
   "display_name": "Python 3",
   "language": "python",
   "name": "python3"
  },
  "language_info": {
   "codemirror_mode": {
    "name": "ipython",
    "version": 3
   },
   "file_extension": ".py",
   "mimetype": "text/x-python",
   "name": "python",
   "nbconvert_exporter": "python",
   "pygments_lexer": "ipython3",
   "version": "3.6.3"
  }
 },
 "nbformat": 4,
 "nbformat_minor": 2
}
